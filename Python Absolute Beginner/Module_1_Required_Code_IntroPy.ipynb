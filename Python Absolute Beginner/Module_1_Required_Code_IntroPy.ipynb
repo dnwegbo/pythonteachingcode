{
  "cells": [
    {
      "metadata": {
        "collapsed": true
      },
      "cell_type": "markdown",
      "source": [
        "#  Module 1 Required Coding Activity  \n",
        "Introduction to Python Unit 1\n",
        "\n",
        "This is an activity from the Jupyter Notebook **`Practice_MOD01_1-2_IntroPy.ipynb`** which you may have already completed.\n",
        "\n",
        "> **NOTE:** This program requires print output and code syntax used in module 1\n",
        "\n",
        "| Some Assignment Requirements |  \n",
        "|:-------------------------------|  \n",
        "| **NOTE:** This program requires `print` output and using code syntax used in module 1 such as variable assignment, `input`, `in` keyword, `.lower()` or `.upper()` method  |  \n",
        "\n",
        "\n",
        "## Program: Allergy Check  \n",
        "\n",
        "1. **[ ]** get user **`input`** for categories of food eaten in the last 24 hours  \n",
        " save in a variable called **input_test**  \n",
        " *example input*\n",
        " [![01 02 practice Allergy-input](https://iajupyterprodblobs.blob.core.windows.net/imagecontainer/eaten_input.gif) ](https://1drv.ms/i/s!Am_KPRosgtaij65qzFD5CGvv95-ijg)\n",
        "&nbsp;  \n",
        "2. **[ ]** print **`True`** if \"dairy\" is in the **input_test** string  \n",
        "**[ ]** Test the code so far  \n",
        "&nbsp;\n",
        "3. **[ ]** modify the print statement to output similar to below  \n",
        "*example output*\n",
        "[![01 02 Allergy output](https://iajupyterprodblobs.blob.core.windows.net/imagecontainer/eaten_output.gif) ](https://1drv.ms/i/s!Am_KPRosgtaij65rET-wmlpCdMX7CQ)  \n",
        "Test the code so far trying input including the string \"dairy\" and without  \n",
        "&nbsp;  \n",
        "\n",
        "4. **[ ]** repeat the process checking the input for \"nuts\", **challenge** add \"Seafood\" and \"chocolate\"  \n",
        "**[ ]** Test your code  \n",
        "&nbsp;  \n",
        "  \n",
        "5. **[ ] challenge:** make your code work for input regardless of case, e.g. - print **`True`** for \"Nuts\", \"NuTs\", \"NUTS\" or \"nuts\"  \n"
      ]
    },
    {
      "metadata": {
        "collapsed": true,
        "trusted": false
      },
      "cell_type": "code",
      "source": [
        "# Create Allergy check code\n",
        "\n",
        "# [ ] get input for input_test variable\n",
        "xl/fjnzs/lfgs?FDNv\n",
        "\n",
        "# [ ] print \"True\" message if \"dairy\" is in the input or False message if not\n",
        "slf/lasjdbfn/\n",
        "\n",
        "# [ ] print True message if \"nuts\" is in the input or False if not\n",
        "sda;lkfhj/LSJDFH\n",
        "\n",
        "# [ ] Challenge: Check if \"seafood\" is in the input - print message\n",
        "\n",
        "sadfklh/hasdf\n",
        "# [ ] Challenge: Check if \"chocolate\" is in the input - print message"
      ],
      "execution_count": 1,
      "outputs": []
    },
    {
      "metadata": {},
      "cell_type": "markdown",
      "source": [
        "Submit this by creating a python file (.py) and submitting it in D2L. Be sure to test that it works."
      ]
    }
  ],
  "metadata": {
    "kernelspec": {
      "name": "python3",
      "display_name": "Python 3",
      "language": "python"
    },
    "language_info": {
      "mimetype": "text/x-python",
      "nbconvert_exporter": "python",
      "name": "python",
      "pygments_lexer": "ipython3",
      "version": "3.5.4",
      "file_extension": ".py",
      "codemirror_mode": {
        "version": 3,
        "name": "ipython"
      }
    }
  },
  "nbformat": 4,
  "nbformat_minor": 1
}